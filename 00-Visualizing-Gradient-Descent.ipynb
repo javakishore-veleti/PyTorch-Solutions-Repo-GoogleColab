{
  "nbformat": 4,
  "nbformat_minor": 0,
  "metadata": {
    "colab": {
      "provenance": [],
      "authorship_tag": "ABX9TyP2wTwbfZqwoyhUgspH7XdN",
      "include_colab_link": true
    },
    "kernelspec": {
      "name": "python3",
      "display_name": "Python 3"
    },
    "language_info": {
      "name": "python"
    }
  },
  "cells": [
    {
      "cell_type": "markdown",
      "metadata": {
        "id": "view-in-github",
        "colab_type": "text"
      },
      "source": [
        "<a href=\"https://colab.research.google.com/github/javakishore-veleti/PyTorch-Solutions-Repo-GoogleColab/blob/main/00-Visualizing-Gradient-Descent.ipynb\" target=\"_parent\"><img src=\"https://colab.research.google.com/assets/colab-badge.svg\" alt=\"Open In Colab\"/></a>"
      ]
    },
    {
      "cell_type": "markdown",
      "source": [
        "# **00 Visualizing Gradient Descent**"
      ],
      "metadata": {
        "id": "VxnYwm1ELdKd"
      }
    },
    {
      "cell_type": "markdown",
      "source": [
        "## Define Imports"
      ],
      "metadata": {
        "id": "yS3IVz3ILUem"
      }
    },
    {
      "cell_type": "code",
      "source": [
        "import numpy as np\n"
      ],
      "metadata": {
        "id": "Mk2IeZqYLOt5"
      },
      "execution_count": 3,
      "outputs": []
    },
    {
      "cell_type": "markdown",
      "source": [
        "## Define variables a Linear Equation for Y = bias + w X + epsilon"
      ],
      "metadata": {
        "id": "QkbP5mXfL7Nh"
      }
    },
    {
      "cell_type": "code",
      "source": [
        "var_bias = 1\n",
        "var_weight = 2\n",
        "\n",
        "sample_size_N = 100\n",
        "\n",
        "np.random.seed(42)\n"
      ],
      "metadata": {
        "id": "xbhf9CaSLt0F"
      },
      "execution_count": 9,
      "outputs": []
    },
    {
      "cell_type": "markdown",
      "source": [
        "## Synthetic Data Generation - Using NumPy generate \"features\" X synthetic data"
      ],
      "metadata": {
        "id": "gcK_g89DMZMX"
      }
    },
    {
      "cell_type": "code",
      "source": [
        "x = np.random.rand(sample_size_N, 1)\n",
        "\n",
        "var_epsilon = ( .1 * np.random.rand(sample_size_N, 1) )\n",
        "\n",
        "var_y = var_bias + var_weight * x + var_epsilon"
      ],
      "metadata": {
        "id": "lrMmtwz8MRGx"
      },
      "execution_count": 12,
      "outputs": []
    },
    {
      "cell_type": "markdown",
      "source": [
        "### Split Synthetic Data - Training + Validation + Test splits"
      ],
      "metadata": {
        "id": "GZaN8OckOKfs"
      }
    },
    {
      "cell_type": "code",
      "source": [],
      "metadata": {
        "id": "btadHtLvOUH_"
      },
      "execution_count": null,
      "outputs": []
    }
  ]
}